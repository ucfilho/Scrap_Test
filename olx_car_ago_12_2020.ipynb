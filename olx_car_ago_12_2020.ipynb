{
  "nbformat": 4,
  "nbformat_minor": 0,
  "metadata": {
    "colab": {
      "name": "Untitled56.ipynb",
      "provenance": [],
      "authorship_tag": "ABX9TyOHAEuY45dVSk5ZOH2KyLOH",
      "include_colab_link": true
    },
    "kernelspec": {
      "name": "python3",
      "display_name": "Python 3"
    }
  },
  "cells": [
    {
      "cell_type": "markdown",
      "metadata": {
        "id": "view-in-github",
        "colab_type": "text"
      },
      "source": [
        "<a href=\"https://colab.research.google.com/github/ucfilho/Scrap_Test/blob/master/olx_car_ago_12_2020.ipynb\" target=\"_parent\"><img src=\"https://colab.research.google.com/assets/colab-badge.svg\" alt=\"Open In Colab\"/></a>"
      ]
    },
    {
      "cell_type": "code",
      "metadata": {
        "id": "aTU7xWSKNpm8",
        "colab_type": "code",
        "colab": {
          "base_uri": "https://localhost:8080/",
          "height": 53
        },
        "outputId": "dbc62d69-6619-4dc6-ba1d-7aeed170eb7c"
      },
      "source": [
        "!pip install selenium"
      ],
      "execution_count": 1,
      "outputs": [
        {
          "output_type": "stream",
          "text": [
            "Requirement already satisfied: selenium in /usr/local/lib/python3.6/dist-packages (3.141.0)\n",
            "Requirement already satisfied: urllib3 in /usr/local/lib/python3.6/dist-packages (from selenium) (1.24.3)\n"
          ],
          "name": "stdout"
        }
      ]
    },
    {
      "cell_type": "code",
      "metadata": {
        "id": "yNtIulCZMqZm",
        "colab_type": "code",
        "colab": {}
      },
      "source": [
        "#biblioteca que controla o navegador\n",
        "from selenium import webdriver\n",
        "#pacote para gerenciar opcoes do navegador\n",
        "from selenium.webdriver.chrome.options import Options\n",
        "#biblioteca para interpretar e manipular o codigo html\n",
        "from bs4 import BeautifulSoup\n",
        "#dispensa apresentacoes\n",
        "import pandas as pd"
      ],
      "execution_count": 2,
      "outputs": []
    },
    {
      "cell_type": "code",
      "metadata": {
        "id": "p2b8_2X_OH8_",
        "colab_type": "code",
        "colab": {}
      },
      "source": [
        "driver_path='https://pr.olx.com.br/autos-e-pecas/carros-vans-e-utilitarios/ford/escort'"
      ],
      "execution_count": 3,
      "outputs": []
    },
    {
      "cell_type": "code",
      "metadata": {
        "id": "H_Y5OhbHMvB1",
        "colab_type": "code",
        "colab": {
          "base_uri": "https://localhost:8080/",
          "height": 483
        },
        "outputId": "ade8d701-bc2f-45ba-bb23-f86a346ab06c"
      },
      "source": [
        "chrome_options = webdriver.ChromeOptions()\n",
        "chrome_options.add_argument(\"--incognito\") #1\n",
        "chrome_options.add_argument(\"--headless\") #2\n",
        "#driver_path = 'YOUR_PATH/chromedriver'\n",
        "driver_path='https://pr.olx.com.br/autos-e-pecas/carros-vans-e-utilitarios/ford/escort?sf=1'\n",
        "driver = webdriver.Chrome(driver_path, options=chrome_options)"
      ],
      "execution_count": 4,
      "outputs": [
        {
          "output_type": "error",
          "ename": "WebDriverException",
          "evalue": "ignored",
          "traceback": [
            "\u001b[0;31m---------------------------------------------------------------------------\u001b[0m",
            "\u001b[0;31mFileNotFoundError\u001b[0m                         Traceback (most recent call last)",
            "\u001b[0;32m/usr/local/lib/python3.6/dist-packages/selenium/webdriver/common/service.py\u001b[0m in \u001b[0;36mstart\u001b[0;34m(self)\u001b[0m\n\u001b[1;32m     75\u001b[0m                                             \u001b[0mstderr\u001b[0m\u001b[0;34m=\u001b[0m\u001b[0mself\u001b[0m\u001b[0;34m.\u001b[0m\u001b[0mlog_file\u001b[0m\u001b[0;34m,\u001b[0m\u001b[0;34m\u001b[0m\u001b[0;34m\u001b[0m\u001b[0m\n\u001b[0;32m---> 76\u001b[0;31m                                             stdin=PIPE)\n\u001b[0m\u001b[1;32m     77\u001b[0m         \u001b[0;32mexcept\u001b[0m \u001b[0mTypeError\u001b[0m\u001b[0;34m:\u001b[0m\u001b[0;34m\u001b[0m\u001b[0;34m\u001b[0m\u001b[0m\n",
            "\u001b[0;32m/usr/lib/python3.6/subprocess.py\u001b[0m in \u001b[0;36m__init__\u001b[0;34m(self, args, bufsize, executable, stdin, stdout, stderr, preexec_fn, close_fds, shell, cwd, env, universal_newlines, startupinfo, creationflags, restore_signals, start_new_session, pass_fds, encoding, errors)\u001b[0m\n\u001b[1;32m    728\u001b[0m                                 \u001b[0merrread\u001b[0m\u001b[0;34m,\u001b[0m \u001b[0merrwrite\u001b[0m\u001b[0;34m,\u001b[0m\u001b[0;34m\u001b[0m\u001b[0;34m\u001b[0m\u001b[0m\n\u001b[0;32m--> 729\u001b[0;31m                                 restore_signals, start_new_session)\n\u001b[0m\u001b[1;32m    730\u001b[0m         \u001b[0;32mexcept\u001b[0m\u001b[0;34m:\u001b[0m\u001b[0;34m\u001b[0m\u001b[0;34m\u001b[0m\u001b[0m\n",
            "\u001b[0;32m/usr/lib/python3.6/subprocess.py\u001b[0m in \u001b[0;36m_execute_child\u001b[0;34m(self, args, executable, preexec_fn, close_fds, pass_fds, cwd, env, startupinfo, creationflags, shell, p2cread, p2cwrite, c2pread, c2pwrite, errread, errwrite, restore_signals, start_new_session)\u001b[0m\n\u001b[1;32m   1363\u001b[0m                             \u001b[0merr_msg\u001b[0m \u001b[0;34m+=\u001b[0m \u001b[0;34m': '\u001b[0m \u001b[0;34m+\u001b[0m \u001b[0mrepr\u001b[0m\u001b[0;34m(\u001b[0m\u001b[0merr_filename\u001b[0m\u001b[0;34m)\u001b[0m\u001b[0;34m\u001b[0m\u001b[0;34m\u001b[0m\u001b[0m\n\u001b[0;32m-> 1364\u001b[0;31m                     \u001b[0;32mraise\u001b[0m \u001b[0mchild_exception_type\u001b[0m\u001b[0;34m(\u001b[0m\u001b[0merrno_num\u001b[0m\u001b[0;34m,\u001b[0m \u001b[0merr_msg\u001b[0m\u001b[0;34m,\u001b[0m \u001b[0merr_filename\u001b[0m\u001b[0;34m)\u001b[0m\u001b[0;34m\u001b[0m\u001b[0;34m\u001b[0m\u001b[0m\n\u001b[0m\u001b[1;32m   1365\u001b[0m                 \u001b[0;32mraise\u001b[0m \u001b[0mchild_exception_type\u001b[0m\u001b[0;34m(\u001b[0m\u001b[0merr_msg\u001b[0m\u001b[0;34m)\u001b[0m\u001b[0;34m\u001b[0m\u001b[0;34m\u001b[0m\u001b[0m\n",
            "\u001b[0;31mFileNotFoundError\u001b[0m: [Errno 2] No such file or directory: 'https://pr.olx.com.br/autos-e-pecas/carros-vans-e-utilitarios/ford/escort?sf=1': 'https://pr.olx.com.br/autos-e-pecas/carros-vans-e-utilitarios/ford/escort?sf=1'",
            "\nDuring handling of the above exception, another exception occurred:\n",
            "\u001b[0;31mWebDriverException\u001b[0m                        Traceback (most recent call last)",
            "\u001b[0;32m<ipython-input-4-0f908799963b>\u001b[0m in \u001b[0;36m<module>\u001b[0;34m()\u001b[0m\n\u001b[1;32m      4\u001b[0m \u001b[0;31m#driver_path = 'YOUR_PATH/chromedriver'\u001b[0m\u001b[0;34m\u001b[0m\u001b[0;34m\u001b[0m\u001b[0;34m\u001b[0m\u001b[0m\n\u001b[1;32m      5\u001b[0m \u001b[0mdriver_path\u001b[0m\u001b[0;34m=\u001b[0m\u001b[0;34m'https://pr.olx.com.br/autos-e-pecas/carros-vans-e-utilitarios/ford/escort?sf=1'\u001b[0m\u001b[0;34m\u001b[0m\u001b[0;34m\u001b[0m\u001b[0m\n\u001b[0;32m----> 6\u001b[0;31m \u001b[0mdriver\u001b[0m \u001b[0;34m=\u001b[0m \u001b[0mwebdriver\u001b[0m\u001b[0;34m.\u001b[0m\u001b[0mChrome\u001b[0m\u001b[0;34m(\u001b[0m\u001b[0mdriver_path\u001b[0m\u001b[0;34m,\u001b[0m \u001b[0moptions\u001b[0m\u001b[0;34m=\u001b[0m\u001b[0mchrome_options\u001b[0m\u001b[0;34m)\u001b[0m\u001b[0;34m\u001b[0m\u001b[0;34m\u001b[0m\u001b[0m\n\u001b[0m",
            "\u001b[0;32m/usr/local/lib/python3.6/dist-packages/selenium/webdriver/chrome/webdriver.py\u001b[0m in \u001b[0;36m__init__\u001b[0;34m(self, executable_path, port, options, service_args, desired_capabilities, service_log_path, chrome_options, keep_alive)\u001b[0m\n\u001b[1;32m     71\u001b[0m             \u001b[0mservice_args\u001b[0m\u001b[0;34m=\u001b[0m\u001b[0mservice_args\u001b[0m\u001b[0;34m,\u001b[0m\u001b[0;34m\u001b[0m\u001b[0;34m\u001b[0m\u001b[0m\n\u001b[1;32m     72\u001b[0m             log_path=service_log_path)\n\u001b[0;32m---> 73\u001b[0;31m         \u001b[0mself\u001b[0m\u001b[0;34m.\u001b[0m\u001b[0mservice\u001b[0m\u001b[0;34m.\u001b[0m\u001b[0mstart\u001b[0m\u001b[0;34m(\u001b[0m\u001b[0;34m)\u001b[0m\u001b[0;34m\u001b[0m\u001b[0;34m\u001b[0m\u001b[0m\n\u001b[0m\u001b[1;32m     74\u001b[0m \u001b[0;34m\u001b[0m\u001b[0m\n\u001b[1;32m     75\u001b[0m         \u001b[0;32mtry\u001b[0m\u001b[0;34m:\u001b[0m\u001b[0;34m\u001b[0m\u001b[0;34m\u001b[0m\u001b[0m\n",
            "\u001b[0;32m/usr/local/lib/python3.6/dist-packages/selenium/webdriver/common/service.py\u001b[0m in \u001b[0;36mstart\u001b[0;34m(self)\u001b[0m\n\u001b[1;32m     81\u001b[0m                 raise WebDriverException(\n\u001b[1;32m     82\u001b[0m                     \"'%s' executable needs to be in PATH. %s\" % (\n\u001b[0;32m---> 83\u001b[0;31m                         os.path.basename(self.path), self.start_error_message)\n\u001b[0m\u001b[1;32m     84\u001b[0m                 )\n\u001b[1;32m     85\u001b[0m             \u001b[0;32melif\u001b[0m \u001b[0merr\u001b[0m\u001b[0;34m.\u001b[0m\u001b[0merrno\u001b[0m \u001b[0;34m==\u001b[0m \u001b[0merrno\u001b[0m\u001b[0;34m.\u001b[0m\u001b[0mEACCES\u001b[0m\u001b[0;34m:\u001b[0m\u001b[0;34m\u001b[0m\u001b[0;34m\u001b[0m\u001b[0m\n",
            "\u001b[0;31mWebDriverException\u001b[0m: Message: 'escort?sf=1' executable needs to be in PATH. Please see https://sites.google.com/a/chromium.org/chromedriver/home\n"
          ]
        }
      ]
    },
    {
      "cell_type": "code",
      "metadata": {
        "id": "HG34u8K5MwTp",
        "colab_type": "code",
        "colab": {}
      },
      "source": [
        "#ao inves disso\n",
        "paginas = [1,2,3,4,5]\n",
        "#use isso\n",
        "paginas = list(range(6))\n",
        "paginas = paginas[1:] #dessa maneira tiramos o 0 do inicio da lista"
      ],
      "execution_count": null,
      "outputs": []
    },
    {
      "cell_type": "code",
      "metadata": {
        "id": "6WaozjcpM034",
        "colab_type": "code",
        "colab": {}
      },
      "source": [
        "for pagina in paginas:\n",
        "    url = 'https://pr.olx.com.br/autos-e-pecas/carros-vans-e-utilitarios/ford/escort?o={}&pe=10000&sf=1'.format(pagina)\n",
        "    response = driver.get(url=url)\n",
        "    "
      ],
      "execution_count": null,
      "outputs": []
    },
    {
      "cell_type": "code",
      "metadata": {
        "id": "RqcRkKczM5gl",
        "colab_type": "code",
        "colab": {}
      },
      "source": [
        "#armazena o html em uma variavel\n",
        "html = driver.page_source\n",
        "#transforma ele em um texto analisavel\n",
        "soup = BeautifulSoup(html, 'html.parser')\n",
        "#quebra o html em partes conforme a classe que queremos\n",
        "html_splited = html.split(\"sc-1fcmfeb-2 ggOGTJ\")"
      ],
      "execution_count": null,
      "outputs": []
    },
    {
      "cell_type": "code",
      "metadata": {
        "id": "BVtHRqusNErR",
        "colab_type": "code",
        "colab": {}
      },
      "source": [
        "links = [] #3\n",
        "for anuncio in html_splited:\n",
        "            try: #5\n",
        "                soup = BeautifulSoup(anuncio, 'html.parser')\n",
        "                elemento_link = soup.find(\"a\", {\"data-lurker-detail\":\"list_id\"}) #4\n",
        "                link = elemento_link.get(\"href\") #6\n",
        "            except:\n",
        "                None\n",
        "            else:\n",
        "                links.append(link) #7"
      ],
      "execution_count": null,
      "outputs": []
    },
    {
      "cell_type": "code",
      "metadata": {
        "id": "Fh4xoE14NFdT",
        "colab_type": "code",
        "colab": {}
      },
      "source": [
        "titulos = []\n",
        "precos = []\n",
        "descricoes = []\n",
        "for u in links:\n",
        "    try:\n",
        "        response = driver.get(url=u)\n",
        "        html = driver.page_source\n",
        "        soup = BeautifulSoup(html, 'html.parser')\n",
        "        content = soup.find(\"div\", {\"id\":\"content\"})\n",
        "        titulo = content.find(\"h1\", {\"tag\":\"h1\"})\n",
        "        texto_titulo = titulo.text\n",
        "        preco = content.find(\"h2\", {\"tag\":\"h2\"})\n",
        "        texto_preco = preco.text\n",
        "        descricao = content.find(\"span\", {\"class\":\"sc-ifAKCX sc-1sj3nln-1 eqxsIR\"})\n",
        "        texto_descricao = descricao.text\n",
        "        texto_descricao = texto_descricao.replace('\\n', '')\n",
        "    except:\n",
        "        titulos.append(\"None\")\n",
        "        precos.append(\"None\")\n",
        "        descricoes.append(\"None\")\n",
        "    else:\n",
        "        titulos.append(texto_titulo)\n",
        "        precos.append(texto_preco)\n",
        "        descricoes.append(texto_descricao)"
      ],
      "execution_count": null,
      "outputs": []
    },
    {
      "cell_type": "code",
      "metadata": {
        "id": "SU4ezj2KNKLK",
        "colab_type": "code",
        "colab": {}
      },
      "source": [
        "matrix = {\n",
        "    'Titulo': list(filter(None, titulos)),\n",
        "    'Preco': list(filter(None, precos)),\n",
        "    'Descricao': list(filter(None, descricoes)),\n",
        "    'Link': list(filter(None, links))\n",
        "} #8\n",
        "df = pd.DataFrame(data=matrix) #9\n",
        "caminho_csv = '/YOUR_PATH/Anuncios.csv'\n",
        "export_csv = df.to_csv(caminho_csv,\n",
        "                       index=None,\n",
        "                       header=True,\n",
        "                       encoding='utf-8'\n",
        "                       ) #10"
      ],
      "execution_count": null,
      "outputs": []
    },
    {
      "cell_type": "code",
      "metadata": {
        "id": "nH1_Ek0NNObM",
        "colab_type": "code",
        "colab": {}
      },
      "source": [
        "print(df)"
      ],
      "execution_count": null,
      "outputs": []
    }
  ]
}